{
 "cells": [
  {
   "cell_type": "code",
   "execution_count": 1,
   "metadata": {},
   "outputs": [
    {
     "name": "stdout",
     "output_type": "stream",
     "text": [
      "/media/sanjyot/DATA/UMich google drive/Academics/Fall 2020/Data Security and Privacy - CIS 545/project/EvaluatingDPML\n"
     ]
    }
   ],
   "source": [
    "cd .."
   ]
  },
  {
   "cell_type": "code",
   "execution_count": 2,
   "metadata": {},
   "outputs": [],
   "source": [
    "%load_ext autoreload\n",
    "%autoreload 2"
   ]
  },
  {
   "cell_type": "code",
   "execution_count": 3,
   "metadata": {},
   "outputs": [],
   "source": [
    "import os\n",
    "os.environ['TF_CPP_MIN_LOG_LEVEL'] = '3' "
   ]
  },
  {
   "cell_type": "code",
   "execution_count": 4,
   "metadata": {},
   "outputs": [],
   "source": [
    "import numpy as np\n",
    "\n",
    "from attack import load_data, train_target_model, yeom_membership_inference\n",
    "from sklearn.metrics import roc_curve, auc, accuracy_score\n",
    "from utilities import log_loss\n",
    "import matplotlib.pyplot as plt\n",
    "import seaborn as sns\n",
    "from IPython.display import set_matplotlib_formats\n",
    "set_matplotlib_formats('retina')"
   ]
  },
  {
   "cell_type": "code",
   "execution_count": 25,
   "metadata": {},
   "outputs": [],
   "source": [
    "import pandas as pd"
   ]
  },
  {
   "cell_type": "code",
   "execution_count": 5,
   "metadata": {},
   "outputs": [],
   "source": [
    "DATA_PATH = 'data/'\n",
    "data_name = 'target_data.npz'"
   ]
  },
  {
   "cell_type": "code",
   "execution_count": 6,
   "metadata": {},
   "outputs": [],
   "source": [
    "class Args:\n",
    "    train_dataset = None\n",
    "    run = 1\n",
    "    use_cpu = 0\n",
    "    save_model = 0\n",
    "    save_data = 0\n",
    "    n_shadow = 5\n",
    "    target_data_size = 1e4\n",
    "    target_test_train_ratio = 1\n",
    "    target_model = 'nn'\n",
    "    target_learning_rate = 0.01\n",
    "    target_batch_size = 200\n",
    "    target_n_hidden = 256  # 256\n",
    "    target_epochs = 50\n",
    "    target_l2_ratio = 1e-8\n",
    "    target_clipping_threshold = 1\n",
    "    target_privacy = 'no_privacy'\n",
    "    target_dp = 'dp'\n",
    "    target_epsilon = 0.5\n",
    "    target_delta = 1e-5\n",
    "    attack_model = 'softmax'\n",
    "    attack_learning_rate = 0.01\n",
    "    attack_batch_size = 100\n",
    "    attack_n_hidden = 64\n",
    "    attack_epochs = 100\n",
    "    attack_l2_ratio = 1e-6\n",
    "    \n",
    "args = Args()"
   ]
  },
  {
   "cell_type": "code",
   "execution_count": 7,
   "metadata": {},
   "outputs": [],
   "source": [
    "dataset = load_data(data_name, args)\n",
    "train_x, train_y, test_x, test_y = dataset"
   ]
  },
  {
   "cell_type": "code",
   "execution_count": 8,
   "metadata": {},
   "outputs": [],
   "source": [
    "true_x = np.vstack((train_x, test_x))\n",
    "true_y = np.append(train_y, test_y)"
   ]
  },
  {
   "cell_type": "markdown",
   "metadata": {},
   "source": [
    "## Non private original target model architecture"
   ]
  },
  {
   "cell_type": "code",
   "execution_count": 9,
   "metadata": {},
   "outputs": [
    {
     "name": "stdout",
     "output_type": "stream",
     "text": [
      "Using model nn\n",
      "Train loss after 1 epochs is: 3.673\n",
      "Train loss after 2 epochs is: 3.357\n",
      "Train loss after 3 epochs is: 3.059\n",
      "Train loss after 4 epochs is: 2.790\n",
      "Train loss after 5 epochs is: 2.522\n",
      "Train loss after 6 epochs is: 2.254\n",
      "Train loss after 7 epochs is: 1.965\n",
      "Train loss after 8 epochs is: 1.737\n",
      "Train loss after 9 epochs is: 1.476\n",
      "Train loss after 10 epochs is: 1.285\n",
      "Train loss after 11 epochs is: 1.041\n",
      "Train loss after 12 epochs is: 0.893\n",
      "Train loss after 13 epochs is: 0.727\n",
      "Train loss after 14 epochs is: 0.552\n",
      "Train loss after 15 epochs is: 0.503\n",
      "Train loss after 16 epochs is: 0.401\n",
      "Train loss after 17 epochs is: 0.318\n",
      "Train loss after 18 epochs is: 0.257\n",
      "Train loss after 19 epochs is: 0.215\n",
      "Train loss after 20 epochs is: 0.158\n",
      "Train loss after 21 epochs is: 0.134\n",
      "Train loss after 22 epochs is: 0.124\n",
      "Train loss after 23 epochs is: 0.095\n",
      "Train loss after 24 epochs is: 0.063\n",
      "Train loss after 25 epochs is: 0.050\n",
      "Train loss after 26 epochs is: 0.046\n",
      "Train loss after 27 epochs is: 0.029\n",
      "Train loss after 28 epochs is: 0.022\n",
      "Train loss after 29 epochs is: 0.014\n",
      "Train loss after 30 epochs is: 0.011\n",
      "Train loss after 31 epochs is: 0.008\n",
      "Train loss after 32 epochs is: 0.006\n",
      "Train loss after 33 epochs is: 0.006\n",
      "Train loss after 34 epochs is: 0.006\n",
      "Train loss after 35 epochs is: 0.005\n",
      "Train loss after 36 epochs is: 0.005\n",
      "Train loss after 37 epochs is: 0.004\n",
      "Train loss after 38 epochs is: 0.004\n",
      "Train loss after 39 epochs is: 0.003\n",
      "Train loss after 40 epochs is: 0.003\n",
      "Train loss after 41 epochs is: 0.004\n",
      "Train loss after 42 epochs is: 0.003\n",
      "Train loss after 43 epochs is: 0.004\n",
      "Train loss after 44 epochs is: 0.003\n",
      "Train loss after 45 epochs is: 0.003\n",
      "Train loss after 46 epochs is: 0.003\n",
      "Train loss after 47 epochs is: 0.003\n",
      "Train loss after 48 epochs is: 0.002\n",
      "Train loss after 49 epochs is: 0.002\n",
      "Train loss after 50 epochs is: 0.002\n",
      "Train accuracy is: 1.000\n",
      "Test accuracy is: 0.162\n"
     ]
    }
   ],
   "source": [
    "pred_y, membership, test_classes, classifier, aux = train_target_model(\n",
    "        args=args,\n",
    "        dataset=dataset,\n",
    "        epochs=args.target_epochs,\n",
    "        batch_size=args.target_batch_size,\n",
    "        learning_rate=args.target_learning_rate,\n",
    "        clipping_threshold=args.target_clipping_threshold,\n",
    "        n_hidden=args.target_n_hidden,\n",
    "        l2_ratio=args.target_l2_ratio,\n",
    "        model=args.target_model,\n",
    "        privacy=args.target_privacy,\n",
    "        dp=args.target_dp,\n",
    "        epsilon=args.target_epsilon,\n",
    "        delta=args.target_delta,\n",
    "        save=args.save_model)"
   ]
  },
  {
   "cell_type": "code",
   "execution_count": 23,
   "metadata": {},
   "outputs": [
    {
     "data": {
      "text/plain": [
       "Text(0.5, 1.0, 'Author model training loss trend')"
      ]
     },
     "execution_count": 23,
     "metadata": {},
     "output_type": "execute_result"
    },
    {
     "data": {
      "image/png": "[encoded data removed]",
      "text/plain": [
       "<Figure size 576x432 with 1 Axes>"
      ]
     },
     "metadata": {
      "needs_background": "light"
     },
     "output_type": "display_data"
    }
   ],
   "source": [
    "orig_train_loss_epoch = range(1, 51)\n",
    "orig_train_loss = [3.673,3.357,3.059,2.790,2.522,2.254,1.965,1.737,1.476,1.285,1.041,0.893,0.727,0.552,0.503,0.401,0.318,0.257,0.215,0.158,0.134,0.124,0.095,0.063,0.050,0.046,0.029,0.022,0.014,0.011,0.008,0.006,0.006,0.006,0.005,0.005,0.004,0.004,0.003,0.003,0.004,0.003,0.004,0.003,0.003,0.003,0.003,0.002,0.002,0.002]\n",
    "fig, ax = plt.subplots(figsize=(8, 6))\n",
    "ax.plot(orig_train_loss_epoch, orig_train_loss)\n",
    "ax.set_xlabel('Epochs')\n",
    "ax.set_ylabel('Training loss')\n",
    "ax.set_title('Author model training loss trend')"
   ]
  },
  {
   "cell_type": "code",
   "execution_count": 10,
   "metadata": {},
   "outputs": [
    {
     "name": "stdout",
     "output_type": "stream",
     "text": [
      "Train accuracy: 1.0\n",
      "Test accuracy: 0.162\n"
     ]
    }
   ],
   "source": [
    "train_loss, train_acc, test_loss, test_acc = aux\n",
    "print(f'Train accuracy: {train_acc:.3}')\n",
    "print(f'Test accuracy: {test_acc:.3}')"
   ]
  },
  {
   "cell_type": "code",
   "execution_count": 11,
   "metadata": {},
   "outputs": [
    {
     "name": "stdout",
     "output_type": "stream",
     "text": [
      "----------YEOM'S MEMBERSHIP INFERENCE----------\n",
      "\n",
      "TP: 7198     FP: 557     FN: 2802     TN: 9443\n",
      "PPV: 0.9282\n",
      "Advantage: 0.6641\n"
     ]
    }
   ],
   "source": [
    "per_instance_loss = np.array(log_loss(true_y, pred_y))\n",
    "pred_membership = yeom_membership_inference(per_instance_loss, membership, train_loss)"
   ]
  },
  {
   "cell_type": "markdown",
   "metadata": {},
   "source": [
    "PPV = Precision\n",
    "\n",
    "Advantage = TPR - FPR"
   ]
  },
  {
   "cell_type": "code",
   "execution_count": 12,
   "metadata": {},
   "outputs": [
    {
     "name": "stdout",
     "output_type": "stream",
     "text": [
      "\n",
      "Accuracy of membership model: 0.832\n",
      "Area under ROC curve: 0.953\n",
      "\n"
     ]
    },
    {
     "data": {
      "image/png": "[encoded data removed]",
      "text/plain": [
       "<Figure size 432x288 with 1 Axes>"
      ]
     },
     "metadata": {
      "needs_background": "light"
     },
     "output_type": "display_data"
    }
   ],
   "source": [
    "fpr, tpr, threshold = roc_curve(membership, -per_instance_loss, pos_label=1)\n",
    "auroc = auc(fpr, tpr)\n",
    "\n",
    "print(f'\\nAccuracy of membership model: {accuracy_score(membership, pred_membership):.3}')\n",
    "print(f'Area under ROC curve: {auroc:.3}\\n')\n",
    "\n",
    "plt.plot(fpr, tpr)\n",
    "plt.annotate(f'AUROC: {auroc:.3}', (0.75, 0.8))\n",
    "plt.xlabel('False positive rate')\n",
    "plt.ylabel('True positive rate')\n",
    "_ = plt.title('ROC curve of membership model')"
   ]
  },
  {
   "cell_type": "code",
   "execution_count": 30,
   "metadata": {},
   "outputs": [
    {
     "data": {
      "text/html": [
       "<div>\n",
       "<style scoped>\n",
       "    .dataframe tbody tr th:only-of-type {\n",
       "        vertical-align: middle;\n",
       "    }\n",
       "\n",
       "    .dataframe tbody tr th {\n",
       "        vertical-align: top;\n",
       "    }\n",
       "\n",
       "    .dataframe thead th {\n",
       "        text-align: right;\n",
       "    }\n",
       "</style>\n",
       "<table border=\"1\" class=\"dataframe\">\n",
       "  <thead>\n",
       "    <tr style=\"text-align: right;\">\n",
       "      <th></th>\n",
       "      <th>Accuracy</th>\n",
       "      <th>Precision</th>\n",
       "      <th>Advantage</th>\n",
       "      <th>AUROC</th>\n",
       "    </tr>\n",
       "  </thead>\n",
       "  <tbody>\n",
       "    <tr>\n",
       "      <th>Author model</th>\n",
       "      <td>0.832</td>\n",
       "      <td>0.923</td>\n",
       "      <td>0.6641</td>\n",
       "      <td>0.953</td>\n",
       "    </tr>\n",
       "  </tbody>\n",
       "</table>\n",
       "</div>"
      ],
      "text/plain": [
       "              Accuracy  Precision  Advantage  AUROC\n",
       "Author model     0.832      0.923     0.6641  0.953"
      ]
     },
     "execution_count": 30,
     "metadata": {},
     "output_type": "execute_result"
    }
   ],
   "source": [
    "orig_eval = {\n",
    "    'Accuracy': 0.832,\n",
    "    'Precision': 0.923,\n",
    "    'Advantage': 0.6641,\n",
    "    'AUROC': 0.953\n",
    "}\n",
    "pd.DataFrame(data=orig_eval, index=['Author model'])"
   ]
  },
  {
   "cell_type": "markdown",
   "metadata": {},
   "source": [
    "## Non private robust target model architecture"
   ]
  },
  {
   "cell_type": "code",
   "execution_count": 13,
   "metadata": {},
   "outputs": [],
   "source": [
    "robust_args = Args()\n",
    "robust_args.target_model = 'robust_nn'\n",
    "robust_args.target_epochs = 70\n",
    "robust_args.target_learning_rate = 0.001"
   ]
  },
  {
   "cell_type": "code",
   "execution_count": 14,
   "metadata": {},
   "outputs": [
    {
     "name": "stdout",
     "output_type": "stream",
     "text": [
      "Using model robust_nn\n",
      "Train loss after 1 epochs is: 4.578\n",
      "Train loss after 2 epochs is: 4.490\n",
      "Train loss after 3 epochs is: 4.283\n",
      "Train loss after 4 epochs is: 4.085\n",
      "Train loss after 5 epochs is: 3.974\n",
      "Train loss after 6 epochs is: 3.910\n",
      "Train loss after 7 epochs is: 3.867\n",
      "Train loss after 8 epochs is: 3.830\n",
      "Train loss after 9 epochs is: 3.797\n",
      "Train loss after 10 epochs is: 3.770\n",
      "Train loss after 11 epochs is: 3.744\n",
      "Train loss after 12 epochs is: 3.721\n",
      "Train loss after 13 epochs is: 3.701\n",
      "Train loss after 14 epochs is: 3.684\n",
      "Train loss after 15 epochs is: 3.666\n",
      "Train loss after 16 epochs is: 3.652\n",
      "Train loss after 17 epochs is: 3.636\n",
      "Train loss after 18 epochs is: 3.622\n",
      "Train loss after 19 epochs is: 3.610\n",
      "Train loss after 20 epochs is: 3.599\n",
      "Train loss after 21 epochs is: 3.586\n",
      "Train loss after 22 epochs is: 3.576\n",
      "Train loss after 23 epochs is: 3.566\n",
      "Train loss after 24 epochs is: 3.554\n",
      "Train loss after 25 epochs is: 3.544\n",
      "Train loss after 26 epochs is: 3.536\n",
      "Train loss after 27 epochs is: 3.525\n",
      "Train loss after 28 epochs is: 3.516\n",
      "Train loss after 29 epochs is: 3.507\n",
      "Train loss after 30 epochs is: 3.499\n",
      "Train loss after 31 epochs is: 3.488\n",
      "Train loss after 32 epochs is: 3.481\n",
      "Train loss after 33 epochs is: 3.472\n",
      "Train loss after 34 epochs is: 3.465\n",
      "Train loss after 35 epochs is: 3.456\n",
      "Train loss after 36 epochs is: 3.446\n",
      "Train loss after 37 epochs is: 3.438\n",
      "Train loss after 38 epochs is: 3.429\n",
      "Train loss after 39 epochs is: 3.422\n",
      "Train loss after 40 epochs is: 3.414\n",
      "Train loss after 41 epochs is: 3.406\n",
      "Train loss after 42 epochs is: 3.399\n",
      "Train loss after 43 epochs is: 3.392\n",
      "Train loss after 44 epochs is: 3.385\n",
      "Train loss after 45 epochs is: 3.377\n",
      "Train loss after 46 epochs is: 3.368\n",
      "Train loss after 47 epochs is: 3.361\n",
      "Train loss after 48 epochs is: 3.357\n",
      "Train loss after 49 epochs is: 3.348\n",
      "Train loss after 50 epochs is: 3.341\n",
      "Train loss after 51 epochs is: 3.333\n",
      "Train loss after 52 epochs is: 3.326\n",
      "Train loss after 53 epochs is: 3.318\n",
      "Train loss after 54 epochs is: 3.314\n",
      "Train loss after 55 epochs is: 3.306\n",
      "Train loss after 56 epochs is: 3.299\n",
      "Train loss after 57 epochs is: 3.291\n",
      "Train loss after 58 epochs is: 3.286\n",
      "Train loss after 59 epochs is: 3.279\n",
      "Train loss after 60 epochs is: 3.271\n",
      "Train loss after 61 epochs is: 3.267\n",
      "Train loss after 62 epochs is: 3.260\n",
      "Train loss after 63 epochs is: 3.255\n",
      "Train loss after 64 epochs is: 3.245\n",
      "Train loss after 65 epochs is: 3.241\n",
      "Train loss after 66 epochs is: 3.234\n",
      "Train loss after 67 epochs is: 3.227\n",
      "Train loss after 68 epochs is: 3.222\n",
      "Train loss after 69 epochs is: 3.217\n",
      "Train loss after 70 epochs is: 3.210\n",
      "Train accuracy is: 0.227\n",
      "Test accuracy is: 0.172\n"
     ]
    }
   ],
   "source": [
    "pred_y, membership, test_classes, classifier, aux = train_target_model(\n",
    "        args=robust_args,\n",
    "        dataset=dataset,\n",
    "        epochs=robust_args.target_epochs,\n",
    "        batch_size=robust_args.target_batch_size,\n",
    "        learning_rate=robust_args.target_learning_rate,\n",
    "        clipping_threshold=robust_args.target_clipping_threshold,\n",
    "        n_hidden=robust_args.target_n_hidden,\n",
    "        l2_ratio=robust_args.target_l2_ratio,\n",
    "        model=robust_args.target_model,\n",
    "        privacy=robust_args.target_privacy,\n",
    "        dp=robust_args.target_dp,\n",
    "        epsilon=robust_args.target_epsilon,\n",
    "        delta=robust_args.target_delta,\n",
    "        save=robust_args.save_model\n",
    ")"
   ]
  },
  {
   "cell_type": "code",
   "execution_count": 36,
   "metadata": {},
   "outputs": [
    {
     "data": {
      "text/plain": [
       "(0.0, 4.8)"
      ]
     },
     "execution_count": 36,
     "metadata": {},
     "output_type": "execute_result"
    },
    {
     "data": {
      "image/png": "[encoded data removed]",
      "text/plain": [
       "<Figure size 576x432 with 1 Axes>"
      ]
     },
     "metadata": {
      "needs_background": "light"
     },
     "output_type": "display_data"
    }
   ],
   "source": [
    "prop_train_loss_epoch = range(1, 71)\n",
    "prop_train_loss = [4.578,4.490,4.283,4.085,3.974,3.910,3.867,3.830,3.797,3.770,3.744,3.721,3.701,3.684,3.666,3.652,3.636,3.622,3.610,3.599,3.586,3.576,3.566,3.554,3.544,3.536,3.525,3.516,3.507,3.499,3.488,3.481,3.472,3.465,3.456,3.446,3.438,3.429,3.422,3.414,3.406,3.399,3.392,3.385,3.377,3.368,3.361,3.357,3.348,3.341,3.333,3.326,3.318,3.314,3.306,3.299,3.291,3.286,3.279,3.271,3.267,3.260,3.255,3.245,3.241,3.234,3.227,3.222,3.217,3.210,]\n",
    "fig, ax = plt.subplots(figsize=(8, 6))\n",
    "ax.plot(prop_train_loss_epoch, prop_train_loss)\n",
    "ax.set_xlabel('Epochs')\n",
    "ax.set_ylabel('Training loss')\n",
    "ax.set_title('Proposed model training loss trend')\n",
    "ax.set_ylim(0, 4.8)"
   ]
  },
  {
   "cell_type": "code",
   "execution_count": 37,
   "metadata": {},
   "outputs": [
    {
     "name": "stdout",
     "output_type": "stream",
     "text": [
      "Train accuracy: 0.227\n",
      "Test accuracy: 0.172\n"
     ]
    }
   ],
   "source": [
    "train_loss, train_acc, test_loss, test_acc = aux\n",
    "print(f'Train accuracy: {train_acc:.3}')\n",
    "print(f'Test accuracy: {test_acc:.3}')"
   ]
  },
  {
   "cell_type": "code",
   "execution_count": 38,
   "metadata": {},
   "outputs": [
    {
     "name": "stdout",
     "output_type": "stream",
     "text": [
      "----------YEOM'S MEMBERSHIP INFERENCE----------\n",
      "\n",
      "TP: 5093     FP: 4173     FN: 4907     TN: 5827\n",
      "PPV: 0.5496\n",
      "Advantage: 0.0920\n"
     ]
    }
   ],
   "source": [
    "per_instance_loss = np.array(log_loss(true_y, pred_y))\n",
    "pred_membership = yeom_membership_inference(per_instance_loss, membership, train_loss)"
   ]
  },
  {
   "cell_type": "code",
   "execution_count": 39,
   "metadata": {},
   "outputs": [
    {
     "name": "stdout",
     "output_type": "stream",
     "text": [
      "\n",
      "Accuracy of membership model: 0.546\n",
      "Area under ROC curve: 0.569\n",
      "\n"
     ]
    },
    {
     "data": {
      "image/png": "[encoded data removed]",
      "text/plain": [
       "<Figure size 432x288 with 1 Axes>"
      ]
     },
     "metadata": {
      "needs_background": "light"
     },
     "output_type": "display_data"
    }
   ],
   "source": [
    "fpr, tpr, threshold = roc_curve(membership, -per_instance_loss, pos_label=1)\n",
    "auroc = auc(fpr, tpr)\n",
    "\n",
    "print(f'\\nAccuracy of membership model: {accuracy_score(membership, pred_membership):.3}')\n",
    "print(f'Area under ROC curve: {auroc:.3}\\n')\n",
    "\n",
    "plt.plot(fpr, tpr)\n",
    "plt.annotate(f'AUROC: {auroc:.3}', (0.75, 0.8))\n",
    "plt.xlabel('False positive rate')\n",
    "plt.ylabel('True positive rate')\n",
    "_ = plt.title('ROC curve of membership model')"
   ]
  },
  {
   "cell_type": "code",
   "execution_count": 42,
   "metadata": {},
   "outputs": [
    {
     "data": {
      "text/html": [
       "<div>\n",
       "<style scoped>\n",
       "    .dataframe tbody tr th:only-of-type {\n",
       "        vertical-align: middle;\n",
       "    }\n",
       "\n",
       "    .dataframe tbody tr th {\n",
       "        vertical-align: top;\n",
       "    }\n",
       "\n",
       "    .dataframe thead th {\n",
       "        text-align: right;\n",
       "    }\n",
       "</style>\n",
       "<table border=\"1\" class=\"dataframe\">\n",
       "  <thead>\n",
       "    <tr style=\"text-align: right;\">\n",
       "      <th></th>\n",
       "      <th>Accuracy</th>\n",
       "      <th>Precision</th>\n",
       "      <th>Advantage</th>\n",
       "      <th>AUROC</th>\n",
       "    </tr>\n",
       "  </thead>\n",
       "  <tbody>\n",
       "    <tr>\n",
       "      <th>Proposed model</th>\n",
       "      <td>0.546</td>\n",
       "      <td>0.5496</td>\n",
       "      <td>0.092</td>\n",
       "      <td>0.569</td>\n",
       "    </tr>\n",
       "  </tbody>\n",
       "</table>\n",
       "</div>"
      ],
      "text/plain": [
       "                Accuracy  Precision  Advantage  AUROC\n",
       "Proposed model     0.546     0.5496      0.092  0.569"
      ]
     },
     "execution_count": 42,
     "metadata": {},
     "output_type": "execute_result"
    }
   ],
   "source": [
    "orig_eval = {\n",
    "    'Accuracy': 0.546,\n",
    "    'Precision': 0.5496,\n",
    "    'Advantage': 0.092,\n",
    "    'AUROC': 0.569\n",
    "}\n",
    "pd.DataFrame(data=orig_eval, index=['Proposed model'])"
   ]
  }
 ],
 "metadata": {
  "kernelspec": {
   "display_name": "Python 3",
   "language": "python",
   "name": "python3"
  },
  "language_info": {
   "codemirror_mode": {
    "name": "ipython",
    "version": 3
   },
   "file_extension": ".py",
   "mimetype": "text/x-python",
   "name": "python",
   "nbconvert_exporter": "python",
   "pygments_lexer": "ipython3",
   "version": "3.7.8"
  }
 },
 "nbformat": 4,
 "nbformat_minor": 4
}
