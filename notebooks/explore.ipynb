{
 "cells": [
  {
   "cell_type": "code",
   "execution_count": 1,
   "metadata": {},
   "outputs": [
    {
     "name": "stdout",
     "output_type": "stream",
     "text": [
      "/media/sanjyot/DATA/UMich google drive/Academics/Fall 2020/Data Security and Privacy - CIS 545/project/EvaluatingDPML\n"
     ]
    }
   ],
   "source": [
    "cd .."
   ]
  },
  {
   "cell_type": "code",
   "execution_count": 2,
   "metadata": {},
   "outputs": [],
   "source": [
    "%load_ext autoreload\n",
    "%autoreload 2"
   ]
  },
  {
   "cell_type": "code",
   "execution_count": 3,
   "metadata": {},
   "outputs": [],
   "source": [
    "import os\n",
    "os.environ['TF_CPP_MIN_LOG_LEVEL'] = '3' "
   ]
  },
  {
   "cell_type": "code",
   "execution_count": 4,
   "metadata": {},
   "outputs": [],
   "source": [
    "import numpy as np\n",
    "\n",
    "from attack import load_data, train_target_model, yeom_membership_inference\n",
    "from sklearn.metrics import roc_curve, auc, accuracy_score\n",
    "from utilities import log_loss\n",
    "import matplotlib.pyplot as plt\n",
    "import seaborn as sns"
   ]
  },
  {
   "cell_type": "code",
   "execution_count": 5,
   "metadata": {},
   "outputs": [],
   "source": [
    "DATA_PATH = 'data/'\n",
    "data_name = 'target_data.npz'"
   ]
  },
  {
   "cell_type": "code",
   "execution_count": 6,
   "metadata": {},
   "outputs": [],
   "source": [
    "class Args:\n",
    "    train_dataset = None\n",
    "    run = 1\n",
    "    use_cpu = 0\n",
    "    save_model = 0\n",
    "    save_data = 0\n",
    "    n_shadow = 5\n",
    "    target_data_size = 1e4\n",
    "    target_test_train_ratio = 1\n",
    "    target_model = 'nn'\n",
    "    target_learning_rate = 0.01\n",
    "    target_batch_size = 200\n",
    "    target_n_hidden = 256  # 256\n",
    "    target_epochs = 50\n",
    "    target_l2_ratio = 1e-8\n",
    "    target_clipping_threshold = 1\n",
    "    target_privacy = 'no_privacy'\n",
    "    target_dp = 'dp'\n",
    "    target_epsilon = 0.5\n",
    "    target_delta = 1e-5\n",
    "    attack_model = 'softmax'\n",
    "    attack_learning_rate = 0.01\n",
    "    attack_batch_size = 100\n",
    "    attack_n_hidden = 64\n",
    "    attack_epochs = 100\n",
    "    attack_l2_ratio = 1e-6\n",
    "    \n",
    "args = Args()"
   ]
  },
  {
   "cell_type": "code",
   "execution_count": 7,
   "metadata": {},
   "outputs": [],
   "source": [
    "dataset = load_data(data_name, args)\n",
    "train_x, train_y, test_x, test_y = dataset"
   ]
  },
  {
   "cell_type": "code",
   "execution_count": 8,
   "metadata": {},
   "outputs": [],
   "source": [
    "true_x = np.vstack((train_x, test_x))\n",
    "true_y = np.append(train_y, test_y)"
   ]
  },
  {
   "cell_type": "markdown",
   "metadata": {},
   "source": [
    "## Non private original target model architecture"
   ]
  },
  {
   "cell_type": "code",
   "execution_count": 9,
   "metadata": {},
   "outputs": [
    {
     "name": "stdout",
     "output_type": "stream",
     "text": [
      "Using model nn\n",
      "Train loss after 1 epochs is: 3.669\n",
      "Train loss after 2 epochs is: 3.330\n",
      "Train loss after 3 epochs is: 3.102\n",
      "Train loss after 4 epochs is: 2.817\n",
      "Train loss after 5 epochs is: 2.549\n",
      "Train loss after 6 epochs is: 2.356\n",
      "Train loss after 7 epochs is: 2.053\n",
      "Train loss after 8 epochs is: 1.819\n",
      "Train loss after 9 epochs is: 1.580\n",
      "Train loss after 10 epochs is: 1.391\n",
      "Train loss after 11 epochs is: 1.179\n",
      "Train loss after 12 epochs is: 0.974\n",
      "Train loss after 13 epochs is: 0.811\n",
      "Train loss after 14 epochs is: 0.726\n",
      "Train loss after 15 epochs is: 0.597\n",
      "Train loss after 16 epochs is: 0.476\n",
      "Train loss after 17 epochs is: 0.358\n",
      "Train loss after 18 epochs is: 0.310\n",
      "Train loss after 19 epochs is: 0.287\n",
      "Train loss after 20 epochs is: 0.212\n",
      "Train loss after 21 epochs is: 0.165\n",
      "Train loss after 22 epochs is: 0.125\n",
      "Train loss after 23 epochs is: 0.124\n",
      "Train loss after 24 epochs is: 0.084\n",
      "Train loss after 25 epochs is: 0.067\n",
      "Train loss after 26 epochs is: 0.047\n",
      "Train loss after 27 epochs is: 0.031\n",
      "Train loss after 28 epochs is: 0.024\n",
      "Train loss after 29 epochs is: 0.015\n",
      "Train loss after 30 epochs is: 0.014\n",
      "Train loss after 31 epochs is: 0.021\n",
      "Train loss after 32 epochs is: 0.025\n",
      "Train loss after 33 epochs is: 0.017\n",
      "Train loss after 34 epochs is: 0.018\n",
      "Train loss after 35 epochs is: 0.022\n",
      "Train loss after 36 epochs is: 0.018\n",
      "Train loss after 37 epochs is: 0.010\n",
      "Train loss after 38 epochs is: 0.014\n",
      "Train loss after 39 epochs is: 0.010\n",
      "Train loss after 40 epochs is: 0.006\n",
      "Train loss after 41 epochs is: 0.004\n",
      "Train loss after 42 epochs is: 0.004\n",
      "Train loss after 43 epochs is: 0.004\n",
      "Train loss after 44 epochs is: 0.003\n",
      "Train loss after 45 epochs is: 0.003\n",
      "Train loss after 46 epochs is: 0.003\n",
      "Train loss after 47 epochs is: 0.003\n",
      "Train loss after 48 epochs is: 0.003\n",
      "Train loss after 49 epochs is: 0.002\n",
      "Train loss after 50 epochs is: 0.002\n",
      "Train accuracy is: 1.000\n",
      "Test accuracy is: 0.168\n"
     ]
    }
   ],
   "source": [
    "pred_y, membership, test_classes, classifier, aux = train_target_model(\n",
    "        args=args,\n",
    "        dataset=dataset,\n",
    "        epochs=args.target_epochs,\n",
    "        batch_size=args.target_batch_size,\n",
    "        learning_rate=args.target_learning_rate,\n",
    "        clipping_threshold=args.target_clipping_threshold,\n",
    "        n_hidden=args.target_n_hidden,\n",
    "        l2_ratio=args.target_l2_ratio,\n",
    "        model=args.target_model,\n",
    "        privacy=args.target_privacy,\n",
    "        dp=args.target_dp,\n",
    "        epsilon=args.target_epsilon,\n",
    "        delta=args.target_delta,\n",
    "        save=args.save_model)"
   ]
  },
  {
   "cell_type": "code",
   "execution_count": 10,
   "metadata": {},
   "outputs": [
    {
     "name": "stdout",
     "output_type": "stream",
     "text": [
      "Train accuracy: 1.0\n",
      "Test accuracy: 0.168\n"
     ]
    }
   ],
   "source": [
    "train_loss, train_acc, test_loss, test_acc = aux\n",
    "print(f'Train accuracy: {train_acc:.3}')\n",
    "print(f'Test accuracy: {test_acc:.3}')"
   ]
  },
  {
   "cell_type": "code",
   "execution_count": 11,
   "metadata": {},
   "outputs": [
    {
     "name": "stdout",
     "output_type": "stream",
     "text": [
      "----------YEOM'S MEMBERSHIP INFERENCE----------\n",
      "\n",
      "TP: 7383     FP: 556     FN: 2617     TN: 9444\n",
      "PPV: 0.9300\n",
      "Advantage: 0.6827\n"
     ]
    }
   ],
   "source": [
    "per_instance_loss = np.array(log_loss(true_y, pred_y))\n",
    "pred_membership = yeom_membership_inference(per_instance_loss, membership, train_loss)"
   ]
  },
  {
   "cell_type": "markdown",
   "metadata": {},
   "source": [
    "PPV = Precision\n",
    "\n",
    "Advantage = TPR - FPR"
   ]
  },
  {
   "cell_type": "code",
   "execution_count": 26,
   "metadata": {},
   "outputs": [
    {
     "name": "stdout",
     "output_type": "stream",
     "text": [
      "\n",
      "Accuracy of membership model: 0.841\n",
      "Area under ROC curve: 0.955\n",
      "\n"
     ]
    },
    {
     "data": {
      "image/png": "[encoded data removed]",
      "text/plain": [
       "<Figure size 432x288 with 1 Axes>"
      ]
     },
     "metadata": {
      "needs_background": "light"
     },
     "output_type": "display_data"
    }
   ],
   "source": [
    "fpr, tpr, threshold = roc_curve(membership, -per_instance_loss, pos_label=1)\n",
    "auroc = auc(fpr, tpr)\n",
    "\n",
    "print(f'\\nAccuracy of membership model: {accuracy_score(membership, pred_membership):.3}')\n",
    "print(f'Area under ROC curve: {auroc:.3}\\n')\n",
    "\n",
    "plt.plot(fpr, tpr)\n",
    "plt.annotate(f'AUROC: {auroc:.3}', (0.75, 0.8))\n",
    "plt.xlabel('False positive rate')\n",
    "plt.ylabel('True positive rate')\n",
    "_ = plt.title('ROC curve of membership model')"
   ]
  },
  {
   "cell_type": "markdown",
   "metadata": {},
   "source": [
    "## Non private robust target model architecture"
   ]
  },
  {
   "cell_type": "code",
   "execution_count": 27,
   "metadata": {},
   "outputs": [],
   "source": [
    "robust_args = Args()\n",
    "robust_args.target_model = 'robust_nn'\n",
    "robust_args.target_epochs = 70\n",
    "robust_args.target_learning_rate = 0.001"
   ]
  },
  {
   "cell_type": "code",
   "execution_count": 28,
   "metadata": {},
   "outputs": [
    {
     "name": "stdout",
     "output_type": "stream",
     "text": [
      "Using model robust_nn\n",
      "Train loss after 1 epochs is: 4.576\n",
      "Train loss after 2 epochs is: 4.477\n",
      "Train loss after 3 epochs is: 4.293\n",
      "Train loss after 4 epochs is: 4.138\n",
      "Train loss after 5 epochs is: 4.031\n",
      "Train loss after 6 epochs is: 3.958\n",
      "Train loss after 7 epochs is: 3.901\n",
      "Train loss after 8 epochs is: 3.856\n",
      "Train loss after 9 epochs is: 3.816\n",
      "Train loss after 10 epochs is: 3.782\n",
      "Train loss after 11 epochs is: 3.752\n",
      "Train loss after 12 epochs is: 3.725\n",
      "Train loss after 13 epochs is: 3.698\n",
      "Train loss after 14 epochs is: 3.673\n",
      "Train loss after 15 epochs is: 3.652\n",
      "Train loss after 16 epochs is: 3.634\n",
      "Train loss after 17 epochs is: 3.615\n",
      "Train loss after 18 epochs is: 3.600\n",
      "Train loss after 19 epochs is: 3.583\n",
      "Train loss after 20 epochs is: 3.569\n",
      "Train loss after 21 epochs is: 3.555\n",
      "Train loss after 22 epochs is: 3.541\n",
      "Train loss after 23 epochs is: 3.529\n",
      "Train loss after 24 epochs is: 3.515\n",
      "Train loss after 25 epochs is: 3.504\n",
      "Train loss after 26 epochs is: 3.492\n",
      "Train loss after 27 epochs is: 3.481\n",
      "Train loss after 28 epochs is: 3.471\n",
      "Train loss after 29 epochs is: 3.462\n",
      "Train loss after 30 epochs is: 3.453\n",
      "Train loss after 31 epochs is: 3.441\n",
      "Train loss after 32 epochs is: 3.433\n",
      "Train loss after 33 epochs is: 3.424\n",
      "Train loss after 34 epochs is: 3.415\n",
      "Train loss after 35 epochs is: 3.406\n",
      "Train loss after 36 epochs is: 3.397\n",
      "Train loss after 37 epochs is: 3.389\n",
      "Train loss after 38 epochs is: 3.380\n",
      "Train loss after 39 epochs is: 3.371\n",
      "Train loss after 40 epochs is: 3.364\n",
      "Train loss after 41 epochs is: 3.355\n",
      "Train loss after 42 epochs is: 3.348\n",
      "Train loss after 43 epochs is: 3.340\n",
      "Train loss after 44 epochs is: 3.331\n",
      "Train loss after 45 epochs is: 3.324\n",
      "Train loss after 46 epochs is: 3.317\n",
      "Train loss after 47 epochs is: 3.311\n",
      "Train loss after 48 epochs is: 3.302\n",
      "Train loss after 49 epochs is: 3.294\n",
      "Train loss after 50 epochs is: 3.289\n",
      "Train loss after 51 epochs is: 3.281\n",
      "Train loss after 52 epochs is: 3.274\n",
      "Train loss after 53 epochs is: 3.267\n",
      "Train loss after 54 epochs is: 3.260\n",
      "Train loss after 55 epochs is: 3.254\n",
      "Train loss after 56 epochs is: 3.246\n",
      "Train loss after 57 epochs is: 3.241\n",
      "Train loss after 58 epochs is: 3.233\n",
      "Train loss after 59 epochs is: 3.227\n",
      "Train loss after 60 epochs is: 3.220\n",
      "Train loss after 61 epochs is: 3.216\n",
      "Train loss after 62 epochs is: 3.209\n",
      "Train loss after 63 epochs is: 3.202\n",
      "Train loss after 64 epochs is: 3.197\n",
      "Train loss after 65 epochs is: 3.192\n",
      "Train loss after 66 epochs is: 3.185\n",
      "Train loss after 67 epochs is: 3.179\n",
      "Train loss after 68 epochs is: 3.173\n",
      "Train loss after 69 epochs is: 3.167\n",
      "Train loss after 70 epochs is: 3.163\n",
      "Train accuracy is: 0.234\n",
      "Test accuracy is: 0.173\n"
     ]
    }
   ],
   "source": [
    "pred_y, membership, test_classes, classifier, aux = train_target_model(\n",
    "        args=robust_args,\n",
    "        dataset=dataset,\n",
    "        epochs=robust_args.target_epochs,\n",
    "        batch_size=robust_args.target_batch_size,\n",
    "        learning_rate=robust_args.target_learning_rate,\n",
    "        clipping_threshold=robust_args.target_clipping_threshold,\n",
    "        n_hidden=robust_args.target_n_hidden,\n",
    "        l2_ratio=robust_args.target_l2_ratio,\n",
    "        model=robust_args.target_model,\n",
    "        privacy=robust_args.target_privacy,\n",
    "        dp=robust_args.target_dp,\n",
    "        epsilon=robust_args.target_epsilon,\n",
    "        delta=robust_args.target_delta,\n",
    "        save=robust_args.save_model\n",
    ")"
   ]
  },
  {
   "cell_type": "code",
   "execution_count": 31,
   "metadata": {},
   "outputs": [
    {
     "name": "stdout",
     "output_type": "stream",
     "text": [
      "Train accuracy: 0.234\n",
      "Test accuracy: 0.173\n"
     ]
    }
   ],
   "source": [
    "train_loss, train_acc, test_loss, test_acc = aux\n",
    "print(f'Train accuracy: {train_acc:.3}')\n",
    "print(f'Test accuracy: {test_acc:.3}')"
   ]
  },
  {
   "cell_type": "code",
   "execution_count": 32,
   "metadata": {},
   "outputs": [
    {
     "name": "stdout",
     "output_type": "stream",
     "text": [
      "----------YEOM'S MEMBERSHIP INFERENCE----------\n",
      "\n",
      "TP: 5160     FP: 4061     FN: 4840     TN: 5939\n",
      "PPV: 0.5596\n",
      "Advantage: 0.1099\n"
     ]
    }
   ],
   "source": [
    "per_instance_loss = np.array(log_loss(true_y, pred_y))\n",
    "pred_membership = yeom_membership_inference(per_instance_loss, membership, train_loss)"
   ]
  },
  {
   "cell_type": "code",
   "execution_count": 33,
   "metadata": {},
   "outputs": [
    {
     "name": "stdout",
     "output_type": "stream",
     "text": [
      "\n",
      "Accuracy of membership model: 0.555\n",
      "Area under ROC curve: 0.576\n",
      "\n"
     ]
    },
    {
     "data": {
      "image/png": "[encoded data removed]",
      "text/plain": [
       "<Figure size 432x288 with 1 Axes>"
      ]
     },
     "metadata": {
      "needs_background": "light"
     },
     "output_type": "display_data"
    }
   ],
   "source": [
    "fpr, tpr, threshold = roc_curve(membership, -per_instance_loss, pos_label=1)\n",
    "auroc = auc(fpr, tpr)\n",
    "\n",
    "print(f'\\nAccuracy of membership model: {accuracy_score(membership, pred_membership):.3}')\n",
    "print(f'Area under ROC curve: {auroc:.3}\\n')\n",
    "\n",
    "plt.plot(fpr, tpr)\n",
    "plt.annotate(f'AUROC: {auroc:.3}', (0.75, 0.8))\n",
    "plt.xlabel('False positive rate')\n",
    "plt.ylabel('True positive rate')\n",
    "_ = plt.title('ROC curve of membership model')"
   ]
  }
 ],
 "metadata": {
  "kernelspec": {
   "display_name": "Python 3",
   "language": "python",
   "name": "python3"
  },
  "language_info": {
   "codemirror_mode": {
    "name": "ipython",
    "version": 3
   },
   "file_extension": ".py",
   "mimetype": "text/x-python",
   "name": "python",
   "nbconvert_exporter": "python",
   "pygments_lexer": "ipython3",
   "version": "3.7.8"
  }
 },
 "nbformat": 4,
 "nbformat_minor": 4
}
